{
 "cells": [
  {
   "cell_type": "code",
   "execution_count": 9,
   "metadata": {},
   "outputs": [
    {
     "name": "stdout",
     "output_type": "stream",
     "text": [
      "                      (text)    (%)  (%).1  (%).2  (%).3 (%).4 (%).5  (%).6  \\\n",
      "0                Description   SiO2  Al2O3  Fe2O3    CaO   MgO   SO3  T Alk   \n",
      "1  2019-Jan-02 Type XX-XXXXX  19.26    4.8   3.63  62.47  2.87   2.8   0.51   \n",
      "2  2020-Jan-21 Type YY-YYYYY   0.17   0.11   0.07   0.17  0.22  0.08   0.03   \n",
      "\n",
      "         (%).7    (%).8  ... (% ret)    (%).21     (%).22           (%).23  \\\n",
      "0  D4 Free CaO  LOI 550  ...   45 um  Air Cont  Alite Sum  Aluminate Cubic   \n",
      "1          0.1     1.01  ...    2.61      9.65        NaN              NaN   \n",
      "2            -      0.1  ...     2.3      0.55        NaN            0.001   \n",
      "\n",
      "  (%).24 (%).25     (%).26   (%).27    (%).28 (%).29  \n",
      "0    K2O   NA2O  Limestone  Clinker  Pozzolan   SLAG  \n",
      "1    0.2    NaN        8.8      NaN       NaN   10.2  \n",
      "2    NaN    NaN        NaN      NaN       NaN   10.8  \n",
      "\n",
      "[3 rows x 33 columns]\n"
     ]
    }
   ],
   "source": [
    "import pandas as pd\n",
    "data= pd.read_excel(\"Dashboard.xlsx\")\n",
    "\n",
    "print(data)"
   ]
  },
  {
   "cell_type": "code",
   "execution_count": 13,
   "metadata": {},
   "outputs": [
    {
     "name": "stdout",
     "output_type": "stream",
     "text": [
      "0                Description   SiO2 Al2O3 Fe2O3    CaO   MgO   SO3 T Alk  \\\n",
      "1  2019-Jan-02 Type XX-XXXXX  19.26   4.8  3.63  62.47  2.87   2.8  0.51   \n",
      "2  2020-Jan-21 Type YY-YYYYY   0.17  0.11  0.07   0.17  0.22  0.08  0.03   \n",
      "\n",
      "0 D4 Free CaO LOI 550  ... 45 um Air Cont Alite Sum Aluminate Cubic  K2O NA2O  \\\n",
      "1         0.1    1.01  ...  2.61     9.65       NaN             NaN  0.2  NaN   \n",
      "2           -     0.1  ...   2.3     0.55       NaN           0.001  NaN  NaN   \n",
      "\n",
      "0 Limestone Clinker Pozzolan  SLAG  \n",
      "1       8.8     NaN      NaN  10.2  \n",
      "2       NaN     NaN      NaN  10.8  \n",
      "\n",
      "[2 rows x 33 columns]\n"
     ]
    }
   ],
   "source": [
    "data.columns = data.iloc[0]\n",
    "data = data[1:]\n",
    "print(data)"
   ]
  },
  {
   "cell_type": "code",
   "execution_count": 33,
   "metadata": {},
   "outputs": [
    {
     "name": "stdout",
     "output_type": "stream",
     "text": [
      "[19.26, 4.8, 3.63, 62.47, 2.87, 2.8, 0.51, 0.1, 1.01, 2.98, 62.51, 6.59, 401.7, '-', '-', 0.2, '-', nan, nan, 0.5, nan, nan, 2.61, 9.65, nan, nan, 0.2, nan, 8.8, nan, nan, 10.2] [0.17, 0.11, 0.07, 0.17, 0.22, 0.08, 0.03, '-', 0.1, 0.16, 1.43, 0.32, 16.7, 0.5, 0.4, '-', '-', 0.03, nan, nan, nan, nan, 2.3, 0.55, nan, 0.001, nan, nan, nan, nan, nan, 10.8]\n"
     ]
    }
   ],
   "source": [
    "date1 = data.iloc[0].to_list()[1:]\n",
    "date2 = data.iloc[1].to_list()[1:]\n",
    "\n",
    "\n",
    "print(date1 , date2)\n"
   ]
  },
  {
   "cell_type": "code",
   "execution_count": 34,
   "metadata": {},
   "outputs": [
    {
     "name": "stdout",
     "output_type": "stream",
     "text": [
      "[19.26, 4.8, 3.63, 62.47, 2.87, 2.8, 0.51, 0.1, 1.01, 2.98, 62.51, 6.59, 401.7, 0, 0, 0.2, 0, 0, 0, 0.5, 0, 0, 2.61, 9.65, 0, 0, 0.2, 0, 8.8, 0, 0, 10.2] [0.17, 0.11, 0.07, 0.17, 0.22, 0.08, 0.03, 0, 0.1, 0.16, 1.43, 0.32, 16.7, 0.5, 0.4, 0, 0, 0.03, 0, 0, 0, 0, 2.3, 0.55, 0, 0.001, 0, 0, 0, 0, 0, 10.8]\n"
     ]
    }
   ],
   "source": [
    "import math \n",
    "new_list1 = []\n",
    "new_list2 = []\n",
    "def new1(data):\n",
    "    for i in data :\n",
    "        if i == \"-\" or math.isnan(i) : \n",
    "            new_list1.append(0)\n",
    "        else :\n",
    "            new_list1.append(i)\n",
    "def new2(data):\n",
    "    for i in data :\n",
    "        if i == \"-\" or math.isnan(i) : \n",
    "            new_list2.append(0)\n",
    "        else :\n",
    "            new_list2.append(i)\n",
    "new1(date1)\n",
    "new2(date2)\n",
    "\n",
    "print(new_list1 , new_list2)"
   ]
  },
  {
   "cell_type": "code",
   "execution_count": 66,
   "metadata": {},
   "outputs": [
    {
     "data": {
      "text/html": [
       "<div>\n",
       "<style scoped>\n",
       "    .dataframe tbody tr th:only-of-type {\n",
       "        vertical-align: middle;\n",
       "    }\n",
       "\n",
       "    .dataframe tbody tr th {\n",
       "        vertical-align: top;\n",
       "    }\n",
       "\n",
       "    .dataframe thead th {\n",
       "        text-align: right;\n",
       "    }\n",
       "</style>\n",
       "<table border=\"1\" class=\"dataframe\">\n",
       "  <thead>\n",
       "    <tr style=\"text-align: right;\">\n",
       "      <th></th>\n",
       "      <th>Description</th>\n",
       "      <th>SiO2</th>\n",
       "      <th>Al2O3</th>\n",
       "      <th>Fe2O3</th>\n",
       "      <th>CaO</th>\n",
       "      <th>MgO</th>\n",
       "      <th>SO3</th>\n",
       "      <th>T Alk</th>\n",
       "      <th>D4 Free CaO</th>\n",
       "      <th>LOI 550</th>\n",
       "      <th>...</th>\n",
       "      <th>45 um</th>\n",
       "      <th>Air Cont</th>\n",
       "      <th>Alite Sum</th>\n",
       "      <th>Aluminate Cubic</th>\n",
       "      <th>K2O</th>\n",
       "      <th>NA2O</th>\n",
       "      <th>Limestone</th>\n",
       "      <th>Clinker</th>\n",
       "      <th>Pozzolan</th>\n",
       "      <th>SLAG</th>\n",
       "    </tr>\n",
       "  </thead>\n",
       "  <tbody>\n",
       "    <tr>\n",
       "      <th>1</th>\n",
       "      <td>2019-Jan-02 Type XX-XXXXX</td>\n",
       "      <td>19.26</td>\n",
       "      <td>4.8</td>\n",
       "      <td>3.63</td>\n",
       "      <td>62.47</td>\n",
       "      <td>2.87</td>\n",
       "      <td>2.8</td>\n",
       "      <td>0.51</td>\n",
       "      <td>0.1</td>\n",
       "      <td>1.01</td>\n",
       "      <td>...</td>\n",
       "      <td>2.61</td>\n",
       "      <td>9.65</td>\n",
       "      <td>0</td>\n",
       "      <td>0</td>\n",
       "      <td>0.2</td>\n",
       "      <td>0</td>\n",
       "      <td>8.8</td>\n",
       "      <td>0</td>\n",
       "      <td>0</td>\n",
       "      <td>10.2</td>\n",
       "    </tr>\n",
       "    <tr>\n",
       "      <th>2</th>\n",
       "      <td>2020-Jan-21 Type YY-YYYYY</td>\n",
       "      <td>0.17</td>\n",
       "      <td>0.11</td>\n",
       "      <td>0.07</td>\n",
       "      <td>0.17</td>\n",
       "      <td>0.22</td>\n",
       "      <td>0.08</td>\n",
       "      <td>0.03</td>\n",
       "      <td>0</td>\n",
       "      <td>0.1</td>\n",
       "      <td>...</td>\n",
       "      <td>2.3</td>\n",
       "      <td>0.55</td>\n",
       "      <td>0</td>\n",
       "      <td>0.001</td>\n",
       "      <td>0</td>\n",
       "      <td>0</td>\n",
       "      <td>0</td>\n",
       "      <td>0</td>\n",
       "      <td>0</td>\n",
       "      <td>10.8</td>\n",
       "    </tr>\n",
       "  </tbody>\n",
       "</table>\n",
       "<p>2 rows × 33 columns</p>\n",
       "</div>"
      ],
      "text/plain": [
       "0                Description   SiO2 Al2O3 Fe2O3    CaO   MgO   SO3 T Alk  \\\n",
       "1  2019-Jan-02 Type XX-XXXXX  19.26   4.8  3.63  62.47  2.87   2.8  0.51   \n",
       "2  2020-Jan-21 Type YY-YYYYY   0.17  0.11  0.07   0.17  0.22  0.08  0.03   \n",
       "\n",
       "0 D4 Free CaO LOI 550  ... 45 um Air Cont Alite Sum Aluminate Cubic  K2O NA2O  \\\n",
       "1         0.1    1.01  ...  2.61     9.65         0               0  0.2    0   \n",
       "2           0     0.1  ...   2.3     0.55         0           0.001    0    0   \n",
       "\n",
       "0 Limestone Clinker Pozzolan  SLAG  \n",
       "1       8.8       0        0  10.2  \n",
       "2         0       0        0  10.8  \n",
       "\n",
       "[2 rows x 33 columns]"
      ]
     },
     "execution_count": 66,
     "metadata": {},
     "output_type": "execute_result"
    }
   ],
   "source": [
    "row1 = ['2019-Jan-02 Type XX-XXXXX',19.26, 4.8, 3.63, 62.47, 2.87, 2.8, 0.51, 0.1, 1.01, 2.98, 62.51, 6.59, 401.7, 0, 0, 0.2, 0, 0, 0, 0.5, 0, 0, 2.61, 9.65, 0, 0, 0.2, 0, 8.8, 0, 0, 10.2]\n",
    "row2 =  ['2020-Jan-21 Type YY-YYYYY',0.17, 0.11, 0.07, 0.17, 0.22, 0.08, 0.03, 0, 0.1, 0.16, 1.43, 0.32, 16.7, 0.5, 0.4, 0, 0, 0.03, 0, 0, 0, 0, 2.3, 0.55, 0, 0.001, 0, 0, 0, 0, 0, 10.8]\n",
    "df =pd.read_excel(\"Dashboard.xlsx\")\n",
    "df.columns = df.iloc[0]\n",
    "df = df[1:]\n",
    "df.iloc[0]  = row1 \n",
    "df.iloc[1] = row2 \n",
    "df\n"
   ]
  },
  {
   "cell_type": "code",
   "execution_count": 65,
   "metadata": {},
   "outputs": [
    {
     "data": {
      "text/plain": [
       "<AxesSubplot:>"
      ]
     },
     "execution_count": 65,
     "metadata": {},
     "output_type": "execute_result"
    },
    {
     "data": {
      "image/png": "[encoded data removed]",
      "text/plain": [
       "<Figure size 432x288 with 1 Axes>"
      ]
     },
     "metadata": {
      "needs_background": "light"
     },
     "output_type": "display_data"
    }
   ],
   "source": [
    "df.plot()"
   ]
  },
  {
   "cell_type": "code",
   "execution_count": 69,
   "metadata": {},
   "outputs": [],
   "source": [
    "df.to_excel('NewData.xlsx')"
   ]
  },
  {
   "cell_type": "code",
   "execution_count": 77,
   "metadata": {},
   "outputs": [
    {
     "data": {
      "text/plain": [
       "33"
      ]
     },
     "execution_count": 77,
     "metadata": {},
     "output_type": "execute_result"
    }
   ],
   "source": [
    "len(df.columns.to_list())"
   ]
  },
  {
   "cell_type": "code",
   "execution_count": 84,
   "metadata": {},
   "outputs": [],
   "source": [
    "val2 = [0.17, 0.11, 0.07, 0.17, 0.22, 0.08, 0.03, 0, 0.1, 0.16, 1.43, 0.32, 16.7, 0.5, 0.4, 0, 0, 0.03, 0, 0, 0, 0, 2.3, 0.55, 0, 0.001, 0, 0, 0, 0, 0, 10.8]\n",
    " \n",
    "print"
   ]
  },
  {
   "cell_type": "code",
   "execution_count": null,
   "metadata": {},
   "outputs": [],
   "source": []
  }
 ],
 "metadata": {
  "kernelspec": {
   "display_name": "Python 3",
   "language": "python",
   "name": "python3"
  },
  "language_info": {
   "codemirror_mode": {
    "name": "ipython",
    "version": 3
   },
   "file_extension": ".py",
   "mimetype": "text/x-python",
   "name": "python",
   "nbconvert_exporter": "python",
   "pygments_lexer": "ipython3",
   "version": "3.8.5"
  }
 },
 "nbformat": 4,
 "nbformat_minor": 4
}
